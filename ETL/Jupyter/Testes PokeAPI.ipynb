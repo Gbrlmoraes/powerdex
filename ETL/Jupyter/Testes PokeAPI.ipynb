{
 "cells": [
  {
   "cell_type": "code",
   "execution_count": 1,
   "id": "f570a4ce",
   "metadata": {
    "ExecuteTime": {
     "end_time": "2022-07-25T14:05:18.515910Z",
     "start_time": "2022-07-25T14:05:17.895332Z"
    }
   },
   "outputs": [],
   "source": [
    "import requests\n",
    "import pandas as pd\n",
    "import re\n",
    "import json\n",
    "from sqlalchemy import create_engine\n",
    "from sqlalchemy.exc import SQLAlchemyError\n",
    "from datetime import datetime"
   ]
  },
  {
   "cell_type": "code",
   "execution_count": 107,
   "id": "5ba2bbad",
   "metadata": {
    "ExecuteTime": {
     "end_time": "2022-07-25T15:54:19.065001Z",
     "start_time": "2022-07-25T15:54:19.049988Z"
    }
   },
   "outputs": [],
   "source": [
    "url = 'https://pokeapi.co/api/v2/pokemon/1'"
   ]
  },
  {
   "cell_type": "code",
   "execution_count": 108,
   "id": "4016558d",
   "metadata": {
    "ExecuteTime": {
     "end_time": "2022-07-25T15:54:19.479378Z",
     "start_time": "2022-07-25T15:54:19.201125Z"
    }
   },
   "outputs": [
    {
     "name": "stdout",
     "output_type": "stream",
     "text": [
      "<Response [200]>\n"
     ]
    }
   ],
   "source": [
    "response = requests.get(url)\n",
    "print(response)"
   ]
  },
  {
   "cell_type": "code",
   "execution_count": 109,
   "id": "548aa4ce",
   "metadata": {
    "ExecuteTime": {
     "end_time": "2022-07-25T15:54:19.526429Z",
     "start_time": "2022-07-25T15:54:19.513409Z"
    }
   },
   "outputs": [],
   "source": [
    "encode = json.loads(response.text)"
   ]
  },
  {
   "cell_type": "code",
   "execution_count": 110,
   "id": "ccce8f94",
   "metadata": {
    "ExecuteTime": {
     "end_time": "2022-07-25T15:54:19.750624Z",
     "start_time": "2022-07-25T15:54:19.736611Z"
    },
    "scrolled": true
   },
   "outputs": [
    {
     "data": {
      "text/html": [
       "<div>\n",
       "<style scoped>\n",
       "    .dataframe tbody tr th:only-of-type {\n",
       "        vertical-align: middle;\n",
       "    }\n",
       "\n",
       "    .dataframe tbody tr th {\n",
       "        vertical-align: top;\n",
       "    }\n",
       "\n",
       "    .dataframe thead th {\n",
       "        text-align: right;\n",
       "    }\n",
       "</style>\n",
       "<table border=\"1\" class=\"dataframe\">\n",
       "  <thead>\n",
       "    <tr style=\"text-align: right;\">\n",
       "      <th></th>\n",
       "      <th>icons</th>\n",
       "    </tr>\n",
       "  </thead>\n",
       "  <tbody>\n",
       "    <tr>\n",
       "      <th>front_default</th>\n",
       "      <td>https://raw.githubusercontent.com/PokeAPI/spri...</td>\n",
       "    </tr>\n",
       "    <tr>\n",
       "      <th>front_female</th>\n",
       "      <td>None</td>\n",
       "    </tr>\n",
       "  </tbody>\n",
       "</table>\n",
       "</div>"
      ],
      "text/plain": [
       "                                                           icons\n",
       "front_default  https://raw.githubusercontent.com/PokeAPI/spri...\n",
       "front_female                                                None"
      ]
     },
     "execution_count": 110,
     "metadata": {},
     "output_type": "execute_result"
    }
   ],
   "source": [
    "encode = json.loads(response.text)\n",
    "df = pd.DataFrame(encode['sprites']['versions']['generation-viii'])\n",
    "df\n",
    "#df.loc[['front_transparent', 'front_shiny_transparent']]"
   ]
  },
  {
   "cell_type": "code",
   "execution_count": 114,
   "id": "0d2a40bc",
   "metadata": {
    "ExecuteTime": {
     "end_time": "2022-07-25T15:55:05.597200Z",
     "start_time": "2022-07-25T15:55:05.593205Z"
    }
   },
   "outputs": [
    {
     "data": {
      "text/plain": [
       "1"
      ]
     },
     "execution_count": 114,
     "metadata": {},
     "output_type": "execute_result"
    }
   ],
   "source": [
    "encode['id']\n"
   ]
  },
  {
   "cell_type": "code",
   "execution_count": 111,
   "id": "fc474991",
   "metadata": {
    "ExecuteTime": {
     "end_time": "2022-07-25T15:54:20.851521Z",
     "start_time": "2022-07-25T15:54:20.817482Z"
    }
   },
   "outputs": [],
   "source": [
    "geracoes = ['generation-i', 'generation-ii', 'generation-iii', 'generation-iv',\n",
    "            'generation-v', 'generation-vi', 'generation-vii', 'generation-viii']\n",
    "\n",
    "df_sprites = pd.DataFrame()\n",
    "\n",
    "for geracao in geracoes:\n",
    "    \n",
    "    # Extraindo sprites\n",
    "    df = pd.DataFrame(encode['sprites']['versions'][geracao])\n",
    "    \n",
    "    if geracao == 'generation-i':\n",
    "        df2 = df.loc[['front_default', 'front_gray']]\n",
    "    elif geracao == 'generation-viii':\n",
    "        df2 = df.loc[['front_default']]\n",
    "    else:\n",
    "        df2 = df.loc[['front_default', 'front_shiny']]\n",
    "        \n",
    "    # Adicionando dados no dataframe principal\n",
    "    for i in range(df2.shape[1]):\n",
    "        num_coluna = i\n",
    "        df_sprites = pd.concat([df_sprites, df2.iloc[:, num_coluna]])"
   ]
  },
  {
   "cell_type": "code",
   "execution_count": 112,
   "id": "7f9a56eb",
   "metadata": {
    "ExecuteTime": {
     "end_time": "2022-07-25T15:54:21.456483Z",
     "start_time": "2022-07-25T15:54:21.449476Z"
    }
   },
   "outputs": [
    {
     "data": {
      "text/html": [
       "<div>\n",
       "<style scoped>\n",
       "    .dataframe tbody tr th:only-of-type {\n",
       "        vertical-align: middle;\n",
       "    }\n",
       "\n",
       "    .dataframe tbody tr th {\n",
       "        vertical-align: top;\n",
       "    }\n",
       "\n",
       "    .dataframe thead th {\n",
       "        text-align: right;\n",
       "    }\n",
       "</style>\n",
       "<table border=\"1\" class=\"dataframe\">\n",
       "  <thead>\n",
       "    <tr style=\"text-align: right;\">\n",
       "      <th></th>\n",
       "      <th>0</th>\n",
       "    </tr>\n",
       "  </thead>\n",
       "  <tbody>\n",
       "    <tr>\n",
       "      <th>front_default</th>\n",
       "      <td>https://raw.githubusercontent.com/PokeAPI/spri...</td>\n",
       "    </tr>\n",
       "    <tr>\n",
       "      <th>front_gray</th>\n",
       "      <td>https://raw.githubusercontent.com/PokeAPI/spri...</td>\n",
       "    </tr>\n",
       "    <tr>\n",
       "      <th>front_default</th>\n",
       "      <td>https://raw.githubusercontent.com/PokeAPI/spri...</td>\n",
       "    </tr>\n",
       "    <tr>\n",
       "      <th>front_gray</th>\n",
       "      <td>https://raw.githubusercontent.com/PokeAPI/spri...</td>\n",
       "    </tr>\n",
       "    <tr>\n",
       "      <th>front_default</th>\n",
       "      <td>https://raw.githubusercontent.com/PokeAPI/spri...</td>\n",
       "    </tr>\n",
       "    <tr>\n",
       "      <th>front_shiny</th>\n",
       "      <td>https://raw.githubusercontent.com/PokeAPI/spri...</td>\n",
       "    </tr>\n",
       "    <tr>\n",
       "      <th>front_default</th>\n",
       "      <td>https://raw.githubusercontent.com/PokeAPI/spri...</td>\n",
       "    </tr>\n",
       "    <tr>\n",
       "      <th>front_shiny</th>\n",
       "      <td>https://raw.githubusercontent.com/PokeAPI/spri...</td>\n",
       "    </tr>\n",
       "    <tr>\n",
       "      <th>front_default</th>\n",
       "      <td>https://raw.githubusercontent.com/PokeAPI/spri...</td>\n",
       "    </tr>\n",
       "    <tr>\n",
       "      <th>front_shiny</th>\n",
       "      <td>https://raw.githubusercontent.com/PokeAPI/spri...</td>\n",
       "    </tr>\n",
       "    <tr>\n",
       "      <th>front_default</th>\n",
       "      <td>https://raw.githubusercontent.com/PokeAPI/spri...</td>\n",
       "    </tr>\n",
       "    <tr>\n",
       "      <th>front_shiny</th>\n",
       "      <td>https://raw.githubusercontent.com/PokeAPI/spri...</td>\n",
       "    </tr>\n",
       "    <tr>\n",
       "      <th>front_default</th>\n",
       "      <td>https://raw.githubusercontent.com/PokeAPI/spri...</td>\n",
       "    </tr>\n",
       "    <tr>\n",
       "      <th>front_shiny</th>\n",
       "      <td>https://raw.githubusercontent.com/PokeAPI/spri...</td>\n",
       "    </tr>\n",
       "    <tr>\n",
       "      <th>front_default</th>\n",
       "      <td>https://raw.githubusercontent.com/PokeAPI/spri...</td>\n",
       "    </tr>\n",
       "    <tr>\n",
       "      <th>front_shiny</th>\n",
       "      <td>https://raw.githubusercontent.com/PokeAPI/spri...</td>\n",
       "    </tr>\n",
       "    <tr>\n",
       "      <th>front_default</th>\n",
       "      <td>https://raw.githubusercontent.com/PokeAPI/spri...</td>\n",
       "    </tr>\n",
       "    <tr>\n",
       "      <th>front_shiny</th>\n",
       "      <td>https://raw.githubusercontent.com/PokeAPI/spri...</td>\n",
       "    </tr>\n",
       "    <tr>\n",
       "      <th>front_default</th>\n",
       "      <td>https://raw.githubusercontent.com/PokeAPI/spri...</td>\n",
       "    </tr>\n",
       "    <tr>\n",
       "      <th>front_shiny</th>\n",
       "      <td>https://raw.githubusercontent.com/PokeAPI/spri...</td>\n",
       "    </tr>\n",
       "    <tr>\n",
       "      <th>front_default</th>\n",
       "      <td>https://raw.githubusercontent.com/PokeAPI/spri...</td>\n",
       "    </tr>\n",
       "    <tr>\n",
       "      <th>front_shiny</th>\n",
       "      <td>https://raw.githubusercontent.com/PokeAPI/spri...</td>\n",
       "    </tr>\n",
       "    <tr>\n",
       "      <th>front_default</th>\n",
       "      <td>https://raw.githubusercontent.com/PokeAPI/spri...</td>\n",
       "    </tr>\n",
       "    <tr>\n",
       "      <th>front_shiny</th>\n",
       "      <td>https://raw.githubusercontent.com/PokeAPI/spri...</td>\n",
       "    </tr>\n",
       "    <tr>\n",
       "      <th>front_default</th>\n",
       "      <td>https://raw.githubusercontent.com/PokeAPI/spri...</td>\n",
       "    </tr>\n",
       "    <tr>\n",
       "      <th>front_shiny</th>\n",
       "      <td>https://raw.githubusercontent.com/PokeAPI/spri...</td>\n",
       "    </tr>\n",
       "    <tr>\n",
       "      <th>front_default</th>\n",
       "      <td>https://raw.githubusercontent.com/PokeAPI/spri...</td>\n",
       "    </tr>\n",
       "    <tr>\n",
       "      <th>front_shiny</th>\n",
       "      <td>https://raw.githubusercontent.com/PokeAPI/spri...</td>\n",
       "    </tr>\n",
       "    <tr>\n",
       "      <th>front_default</th>\n",
       "      <td>https://raw.githubusercontent.com/PokeAPI/spri...</td>\n",
       "    </tr>\n",
       "    <tr>\n",
       "      <th>front_shiny</th>\n",
       "      <td>NaN</td>\n",
       "    </tr>\n",
       "    <tr>\n",
       "      <th>front_default</th>\n",
       "      <td>https://raw.githubusercontent.com/PokeAPI/spri...</td>\n",
       "    </tr>\n",
       "    <tr>\n",
       "      <th>front_shiny</th>\n",
       "      <td>https://raw.githubusercontent.com/PokeAPI/spri...</td>\n",
       "    </tr>\n",
       "    <tr>\n",
       "      <th>front_default</th>\n",
       "      <td>https://raw.githubusercontent.com/PokeAPI/spri...</td>\n",
       "    </tr>\n",
       "  </tbody>\n",
       "</table>\n",
       "</div>"
      ],
      "text/plain": [
       "                                                               0\n",
       "front_default  https://raw.githubusercontent.com/PokeAPI/spri...\n",
       "front_gray     https://raw.githubusercontent.com/PokeAPI/spri...\n",
       "front_default  https://raw.githubusercontent.com/PokeAPI/spri...\n",
       "front_gray     https://raw.githubusercontent.com/PokeAPI/spri...\n",
       "front_default  https://raw.githubusercontent.com/PokeAPI/spri...\n",
       "front_shiny    https://raw.githubusercontent.com/PokeAPI/spri...\n",
       "front_default  https://raw.githubusercontent.com/PokeAPI/spri...\n",
       "front_shiny    https://raw.githubusercontent.com/PokeAPI/spri...\n",
       "front_default  https://raw.githubusercontent.com/PokeAPI/spri...\n",
       "front_shiny    https://raw.githubusercontent.com/PokeAPI/spri...\n",
       "front_default  https://raw.githubusercontent.com/PokeAPI/spri...\n",
       "front_shiny    https://raw.githubusercontent.com/PokeAPI/spri...\n",
       "front_default  https://raw.githubusercontent.com/PokeAPI/spri...\n",
       "front_shiny    https://raw.githubusercontent.com/PokeAPI/spri...\n",
       "front_default  https://raw.githubusercontent.com/PokeAPI/spri...\n",
       "front_shiny    https://raw.githubusercontent.com/PokeAPI/spri...\n",
       "front_default  https://raw.githubusercontent.com/PokeAPI/spri...\n",
       "front_shiny    https://raw.githubusercontent.com/PokeAPI/spri...\n",
       "front_default  https://raw.githubusercontent.com/PokeAPI/spri...\n",
       "front_shiny    https://raw.githubusercontent.com/PokeAPI/spri...\n",
       "front_default  https://raw.githubusercontent.com/PokeAPI/spri...\n",
       "front_shiny    https://raw.githubusercontent.com/PokeAPI/spri...\n",
       "front_default  https://raw.githubusercontent.com/PokeAPI/spri...\n",
       "front_shiny    https://raw.githubusercontent.com/PokeAPI/spri...\n",
       "front_default  https://raw.githubusercontent.com/PokeAPI/spri...\n",
       "front_shiny    https://raw.githubusercontent.com/PokeAPI/spri...\n",
       "front_default  https://raw.githubusercontent.com/PokeAPI/spri...\n",
       "front_shiny    https://raw.githubusercontent.com/PokeAPI/spri...\n",
       "front_default  https://raw.githubusercontent.com/PokeAPI/spri...\n",
       "front_shiny                                                  NaN\n",
       "front_default  https://raw.githubusercontent.com/PokeAPI/spri...\n",
       "front_shiny    https://raw.githubusercontent.com/PokeAPI/spri...\n",
       "front_default  https://raw.githubusercontent.com/PokeAPI/spri..."
      ]
     },
     "execution_count": 112,
     "metadata": {},
     "output_type": "execute_result"
    }
   ],
   "source": [
    "df_sprites"
   ]
  },
  {
   "cell_type": "code",
   "execution_count": 113,
   "id": "0c3942e5",
   "metadata": {
    "ExecuteTime": {
     "end_time": "2022-07-25T15:54:23.892506Z",
     "start_time": "2022-07-25T15:54:23.881498Z"
    }
   },
   "outputs": [
    {
     "name": "stdout",
     "output_type": "stream",
     "text": [
      "https://raw.githubusercontent.com/PokeAPI/sprites/master/sprites/pokemon/versions/generation-i/red-blue/1.png\n",
      "https://raw.githubusercontent.com/PokeAPI/sprites/master/sprites/pokemon/versions/generation-i/red-blue/gray/1.png\n",
      "https://raw.githubusercontent.com/PokeAPI/sprites/master/sprites/pokemon/versions/generation-i/yellow/1.png\n",
      "https://raw.githubusercontent.com/PokeAPI/sprites/master/sprites/pokemon/versions/generation-i/yellow/gray/1.png\n",
      "https://raw.githubusercontent.com/PokeAPI/sprites/master/sprites/pokemon/versions/generation-ii/crystal/1.png\n",
      "https://raw.githubusercontent.com/PokeAPI/sprites/master/sprites/pokemon/versions/generation-ii/crystal/shiny/1.png\n",
      "https://raw.githubusercontent.com/PokeAPI/sprites/master/sprites/pokemon/versions/generation-ii/gold/1.png\n",
      "https://raw.githubusercontent.com/PokeAPI/sprites/master/sprites/pokemon/versions/generation-ii/gold/shiny/1.png\n",
      "https://raw.githubusercontent.com/PokeAPI/sprites/master/sprites/pokemon/versions/generation-ii/silver/1.png\n",
      "https://raw.githubusercontent.com/PokeAPI/sprites/master/sprites/pokemon/versions/generation-ii/silver/shiny/1.png\n",
      "https://raw.githubusercontent.com/PokeAPI/sprites/master/sprites/pokemon/versions/generation-iii/emerald/1.png\n",
      "https://raw.githubusercontent.com/PokeAPI/sprites/master/sprites/pokemon/versions/generation-iii/emerald/shiny/1.png\n",
      "https://raw.githubusercontent.com/PokeAPI/sprites/master/sprites/pokemon/versions/generation-iii/firered-leafgreen/1.png\n",
      "https://raw.githubusercontent.com/PokeAPI/sprites/master/sprites/pokemon/versions/generation-iii/firered-leafgreen/shiny/1.png\n",
      "https://raw.githubusercontent.com/PokeAPI/sprites/master/sprites/pokemon/versions/generation-iii/ruby-sapphire/1.png\n",
      "https://raw.githubusercontent.com/PokeAPI/sprites/master/sprites/pokemon/versions/generation-iii/ruby-sapphire/shiny/1.png\n",
      "https://raw.githubusercontent.com/PokeAPI/sprites/master/sprites/pokemon/versions/generation-iv/diamond-pearl/1.png\n",
      "https://raw.githubusercontent.com/PokeAPI/sprites/master/sprites/pokemon/versions/generation-iv/diamond-pearl/shiny/1.png\n",
      "https://raw.githubusercontent.com/PokeAPI/sprites/master/sprites/pokemon/versions/generation-iv/heartgold-soulsilver/1.png\n",
      "https://raw.githubusercontent.com/PokeAPI/sprites/master/sprites/pokemon/versions/generation-iv/heartgold-soulsilver/shiny/1.png\n",
      "https://raw.githubusercontent.com/PokeAPI/sprites/master/sprites/pokemon/versions/generation-iv/platinum/1.png\n",
      "https://raw.githubusercontent.com/PokeAPI/sprites/master/sprites/pokemon/versions/generation-iv/platinum/shiny/1.png\n",
      "https://raw.githubusercontent.com/PokeAPI/sprites/master/sprites/pokemon/versions/generation-v/black-white/1.png\n",
      "https://raw.githubusercontent.com/PokeAPI/sprites/master/sprites/pokemon/versions/generation-v/black-white/shiny/1.png\n",
      "https://raw.githubusercontent.com/PokeAPI/sprites/master/sprites/pokemon/versions/generation-vi/omegaruby-alphasapphire/1.png\n",
      "https://raw.githubusercontent.com/PokeAPI/sprites/master/sprites/pokemon/versions/generation-vi/omegaruby-alphasapphire/shiny/1.png\n",
      "https://raw.githubusercontent.com/PokeAPI/sprites/master/sprites/pokemon/versions/generation-vi/x-y/1.png\n",
      "https://raw.githubusercontent.com/PokeAPI/sprites/master/sprites/pokemon/versions/generation-vi/x-y/shiny/1.png\n",
      "https://raw.githubusercontent.com/PokeAPI/sprites/master/sprites/pokemon/versions/generation-vii/icons/1.png\n",
      "nan\n",
      "https://raw.githubusercontent.com/PokeAPI/sprites/master/sprites/pokemon/versions/generation-vii/ultra-sun-ultra-moon/1.png\n",
      "https://raw.githubusercontent.com/PokeAPI/sprites/master/sprites/pokemon/versions/generation-vii/ultra-sun-ultra-moon/shiny/1.png\n",
      "https://raw.githubusercontent.com/PokeAPI/sprites/master/sprites/pokemon/versions/generation-viii/icons/1.png\n"
     ]
    }
   ],
   "source": [
    "for i in df_sprites.iloc[:,0]:\n",
    "    print(i)"
   ]
  },
  {
   "cell_type": "code",
   "execution_count": null,
   "id": "50e7e680",
   "metadata": {},
   "outputs": [],
   "source": []
  }
 ],
 "metadata": {
  "kernelspec": {
   "display_name": "Python 3 (ipykernel)",
   "language": "python",
   "name": "python3"
  },
  "language_info": {
   "codemirror_mode": {
    "name": "ipython",
    "version": 3
   },
   "file_extension": ".py",
   "mimetype": "text/x-python",
   "name": "python",
   "nbconvert_exporter": "python",
   "pygments_lexer": "ipython3",
   "version": "3.9.7"
  },
  "toc": {
   "base_numbering": 1,
   "nav_menu": {},
   "number_sections": true,
   "sideBar": true,
   "skip_h1_title": false,
   "title_cell": "Table of Contents",
   "title_sidebar": "Contents",
   "toc_cell": false,
   "toc_position": {},
   "toc_section_display": true,
   "toc_window_display": false
  },
  "varInspector": {
   "cols": {
    "lenName": 16,
    "lenType": 16,
    "lenVar": 40
   },
   "kernels_config": {
    "python": {
     "delete_cmd_postfix": "",
     "delete_cmd_prefix": "del ",
     "library": "var_list.py",
     "varRefreshCmd": "print(var_dic_list())"
    },
    "r": {
     "delete_cmd_postfix": ") ",
     "delete_cmd_prefix": "rm(",
     "library": "var_list.r",
     "varRefreshCmd": "cat(var_dic_list()) "
    }
   },
   "types_to_exclude": [
    "module",
    "function",
    "builtin_function_or_method",
    "instance",
    "_Feature"
   ],
   "window_display": false
  }
 },
 "nbformat": 4,
 "nbformat_minor": 5
}
